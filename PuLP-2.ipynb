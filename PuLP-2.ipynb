{
  "nbformat": 4,
  "nbformat_minor": 0,
  "metadata": {
    "colab": {
      "provenance": []
    },
    "kernelspec": {
      "name": "python3",
      "display_name": "Python 3"
    },
    "language_info": {
      "name": "python"
    }
  },
  "cells": [
    {
      "cell_type": "code",
      "source": [],
      "metadata": {
        "colab": {
          "base_uri": "https://localhost:8080/"
        },
        "id": "TnE-vyYyJ2QM",
        "outputId": "52954016-f59f-4159-e7ca-a3a67aef6725"
      },
      "execution_count": 3,
      "outputs": [
        {
          "output_type": "stream",
          "name": "stdout",
          "text": [
            "Requirement already satisfied: pulp in /usr/local/lib/python3.10/dist-packages (2.8.0)\n"
          ]
        }
      ]
    },
    {
      "cell_type": "code",
      "source": [
        "#Import all classes of PuLP module\n",
        "from pulp import*\n",
        "\n",
        "#Create the problem variable to contain the problem data\n",
        "model = LpProblem ( \"FurnitureProblem\", LpMaximize)\n"
      ],
      "metadata": {
        "id": "JolyHrzmJ8PR"
      },
      "execution_count": 5,
      "outputs": []
    },
    {
      "cell_type": "code",
      "source": [
        "#Create 3 variables tables, chairs and bookcases\n",
        "\n",
        "x1 = LpVariable(\"tables\", 0, None, LpInteger)\n",
        "x2 = LpVariable(\"chairs\", 0, None, LpInteger)\n",
        "x3 = LpVariable(\"bookcases\", 0, None, LpInteger)"
      ],
      "metadata": {
        "id": "Xbop-ufKKRL8"
      },
      "execution_count": 8,
      "outputs": []
    },
    {
      "cell_type": "code",
      "source": [
        "#Create maximize objective function\n",
        "model += 40 * x1 + 30 * x2 +45 + x3\n"
      ],
      "metadata": {
        "id": "p4AocmQkKykm"
      },
      "execution_count": 10,
      "outputs": []
    },
    {
      "cell_type": "code",
      "source": [
        "#Create three constraints\n",
        "model += 2 * x1 + x2 + 2.5 * x3<= 60, \"Labour\"\n",
        "model += 0.8 * x1 + 0.6 * x2 + 1.0 * x3 <= 16, \"Machine\"\n",
        "model += 30 * x1 +20 * x2 + 30 * x3 <= 400, \"wood\"\n",
        "model += x1 >= 10, \"tables\""
      ],
      "metadata": {
        "id": "U9GRms5mLDC3"
      },
      "execution_count": 11,
      "outputs": []
    },
    {
      "cell_type": "code",
      "source": [
        "#The problem is solved using PuLP's choice of Solver\n",
        "model.solve()\n",
        "\n",
        "#Each of the variables is printed with it's resolved optimum value\n",
        "for v in model.variables():\n",
        "\n",
        "      print(v.name, \"=\", v.varValue)\n",
        "\n"
      ],
      "metadata": {
        "colab": {
          "base_uri": "https://localhost:8080/"
        },
        "id": "M8UfFdlFL5vH",
        "outputId": "5a0b7b54-a760-497c-d808-b9e766654576"
      },
      "execution_count": 16,
      "outputs": [
        {
          "output_type": "stream",
          "name": "stdout",
          "text": [
            "bookcases = 0.0\n",
            "chairs = 5.0\n",
            "tables = 10.0\n"
          ]
        }
      ]
    }
  ]
}