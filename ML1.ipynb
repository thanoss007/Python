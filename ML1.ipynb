{
  "nbformat": 4,
  "nbformat_minor": 0,
  "metadata": {
    "colab": {
      "provenance": [],
      "toc_visible": true
    },
    "kernelspec": {
      "name": "python3",
      "display_name": "Python 3"
    },
    "language_info": {
      "name": "python"
    }
  },
  "cells": [
    {
      "cell_type": "code",
      "source": [
        "import yfinance as yf\n",
        "import pandas as pd\n",
        "\n",
        "def fetch_stock_data(ticker, start_date, end_date):\n",
        "    try:\n",
        "        stock_data = yf.download(ticker, start=start_date, end=end_date)\n",
        "        return stock_data\n",
        "    except Exception as e:\n",
        "        print(f\"Error fetching data for {ticker}: {e}\")\n",
        "        return None\n",
        "\n",
        "# Define the tickers for the sectors\n",
        "financials_tickers = ['LLOY.L', 'HSBA.L', 'BARC.L']\n",
        "real_estate_tickers = ['LAND.L', 'DLN.L', 'BLND.L', 'PNN.L']\n",
        "consumer_goods_tickers = ['ULVR.L', 'IMB.L', 'DGE.L']\n",
        "\n",
        "# Define start and end dates\n",
        "start_date = '2004-01-01'\n",
        "end_date = '2024-01-01'\n",
        "\n",
        "# Fetch data for financials sector\n",
        "financials_data = pd.DataFrame()\n",
        "for ticker in financials_tickers:\n",
        "    data = fetch_stock_data(ticker, start_date, end_date)\n",
        "    if data is not None and not data.empty:\n",
        "        financials_data[ticker] = data['Adj Close']\n",
        "\n",
        "# Fetch data for real estate sector\n",
        "real_estate_data = pd.DataFrame()\n",
        "for ticker in real_estate_tickers:\n",
        "    data = fetch_stock_data(ticker, start_date, end_date)\n",
        "    if data is not None and not data.empty:\n",
        "        real_estate_data[ticker] = data['Adj Close']\n",
        "\n",
        "# Fetch data for consumer goods sector\n",
        "consumer_goods_data = pd.DataFrame()\n",
        "for ticker in consumer_goods_tickers:\n",
        "    data = fetch_stock_data(ticker, start_date, end_date)\n",
        "    if data is not None and not data.empty:\n",
        "        consumer_goods_data[ticker] = data['Adj Close']\n",
        "\n",
        "# Save the data to CSV files\n",
        "financials_data.to_csv('financials_data.csv')\n",
        "real_estate_data.to_csv('real_estate_data.csv')\n",
        "consumer_goods_data.to_csv('consumer_goods_data.csv')\n"
      ],
      "metadata": {
        "colab": {
          "base_uri": "https://localhost:8080/"
        },
        "id": "UgHCd5bpMDkE",
        "outputId": "212c2ca9-d2c2-421c-e833-95e374d45538"
      },
      "execution_count": 21,
      "outputs": [
        {
          "output_type": "stream",
          "name": "stderr",
          "text": [
            "[*********************100%%**********************]  1 of 1 completed\n",
            "[*********************100%%**********************]  1 of 1 completed\n",
            "[*********************100%%**********************]  1 of 1 completed\n",
            "[*********************100%%**********************]  1 of 1 completed\n",
            "[*********************100%%**********************]  1 of 1 completed\n",
            "[*********************100%%**********************]  1 of 1 completed\n",
            "[*********************100%%**********************]  1 of 1 completed\n",
            "[*********************100%%**********************]  1 of 1 completed\n",
            "[*********************100%%**********************]  1 of 1 completed\n",
            "[*********************100%%**********************]  1 of 1 completed\n"
          ]
        }
      ]
    },
    {
      "cell_type": "code",
      "source": [
        "# Assume 'data' is the DataFrame you want to download\n",
        "data.to_csv('data.csv', index=False)  # Save DataFrame to a CSV file\n",
        "\n",
        "# Download the CSV file to your local machine\n",
        "from google.colab import files\n",
        "files.download('data.csv')\n"
      ],
      "metadata": {
        "colab": {
          "base_uri": "https://localhost:8080/",
          "height": 17
        },
        "id": "iPGjmhnHR07w",
        "outputId": "09817317-4daf-4e48-8efb-a759e1ddbb19"
      },
      "execution_count": 33,
      "outputs": [
        {
          "output_type": "display_data",
          "data": {
            "text/plain": [
              "<IPython.core.display.Javascript object>"
            ],
            "application/javascript": [
              "\n",
              "    async function download(id, filename, size) {\n",
              "      if (!google.colab.kernel.accessAllowed) {\n",
              "        return;\n",
              "      }\n",
              "      const div = document.createElement('div');\n",
              "      const label = document.createElement('label');\n",
              "      label.textContent = `Downloading \"${filename}\": `;\n",
              "      div.appendChild(label);\n",
              "      const progress = document.createElement('progress');\n",
              "      progress.max = size;\n",
              "      div.appendChild(progress);\n",
              "      document.body.appendChild(div);\n",
              "\n",
              "      const buffers = [];\n",
              "      let downloaded = 0;\n",
              "\n",
              "      const channel = await google.colab.kernel.comms.open(id);\n",
              "      // Send a message to notify the kernel that we're ready.\n",
              "      channel.send({})\n",
              "\n",
              "      for await (const message of channel.messages) {\n",
              "        // Send a message to notify the kernel that we're ready.\n",
              "        channel.send({})\n",
              "        if (message.buffers) {\n",
              "          for (const buffer of message.buffers) {\n",
              "            buffers.push(buffer);\n",
              "            downloaded += buffer.byteLength;\n",
              "            progress.value = downloaded;\n",
              "          }\n",
              "        }\n",
              "      }\n",
              "      const blob = new Blob(buffers, {type: 'application/binary'});\n",
              "      const a = document.createElement('a');\n",
              "      a.href = window.URL.createObjectURL(blob);\n",
              "      a.download = filename;\n",
              "      div.appendChild(a);\n",
              "      a.click();\n",
              "      div.remove();\n",
              "    }\n",
              "  "
            ]
          },
          "metadata": {}
        },
        {
          "output_type": "display_data",
          "data": {
            "text/plain": [
              "<IPython.core.display.Javascript object>"
            ],
            "application/javascript": [
              "download(\"download_82e65c51-32c1-494a-b713-fd2187bad6dc\", \"data.csv\", 276800)"
            ]
          },
          "metadata": {}
        }
      ]
    },
    {
      "cell_type": "code",
      "source": [
        "# Combine all ticker symbols from different sectors into a single list\n",
        "all_tickers = financials_tickers + real_estate_tickers + consumer_goods_tickers\n",
        "\n",
        "# Count the total number of unique ticker symbols\n",
        "total_stocks = len(set(all_tickers))\n",
        "\n",
        "print(\"Total number of stocks:\", total_stocks)\n"
      ],
      "metadata": {
        "colab": {
          "base_uri": "https://localhost:8080/"
        },
        "id": "fycnQeAHSRkb",
        "outputId": "b6e13ff3-3412-43d7-bc7a-24e875f3500e"
      },
      "execution_count": 35,
      "outputs": [
        {
          "output_type": "stream",
          "name": "stdout",
          "text": [
            "Total number of stocks: 10\n"
          ]
        }
      ]
    },
    {
      "cell_type": "code",
      "source": [
        "import yfinance as yf\n",
        "\n",
        "# Define a function to get the company name for a given ticker symbol\n",
        "def get_company_name(ticker):\n",
        "    try:\n",
        "        # Create a Ticker object\n",
        "        ticker_obj = yf.Ticker(ticker)\n",
        "        # Get the info dictionary\n",
        "        info = ticker_obj.info\n",
        "        # Extract the company name\n",
        "        company_name = info['longName']\n",
        "        return company_name\n",
        "    except Exception as e:\n",
        "        print(f\"Error fetching company name for {ticker}: {e}\")\n",
        "        return None\n",
        "\n",
        "# Iterate through all ticker symbols and get their corresponding company names\n",
        "stock_names = {}\n",
        "for ticker in all_tickers:\n",
        "    name = get_company_name(ticker)\n",
        "    if name:\n",
        "        stock_names[ticker] = name\n",
        "\n",
        "# Print the ticker symbols and their corresponding company names\n",
        "for ticker, name in stock_names.items():\n",
        "    print(f\"{ticker}: {name}\")\n"
      ],
      "metadata": {
        "colab": {
          "base_uri": "https://localhost:8080/"
        },
        "id": "mtgFmIwpSZP2",
        "outputId": "48adcaf6-c575-4b7e-8dd0-63762d81e85c"
      },
      "execution_count": 36,
      "outputs": [
        {
          "output_type": "stream",
          "name": "stdout",
          "text": [
            "LLOY.L: Lloyds Banking Group plc\n",
            "HSBA.L: HSBC Holdings plc\n",
            "BARC.L: Barclays PLC\n",
            "LAND.L: Land Securities Group Plc\n",
            "DLN.L: Derwent London Plc\n",
            "BLND.L: British Land Company PLC\n",
            "PNN.L: Pennon Group Plc\n",
            "ULVR.L: Unilever PLC\n",
            "IMB.L: Imperial Brands PLC\n",
            "DGE.L: Diageo plc\n"
          ]
        }
      ]
    }
  ]
}