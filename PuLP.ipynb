{
  "nbformat": 4,
  "nbformat_minor": 0,
  "metadata": {
    "colab": {
      "provenance": []
    },
    "kernelspec": {
      "name": "python3",
      "display_name": "Python 3"
    },
    "language_info": {
      "name": "python"
    }
  },
  "cells": [
    {
      "cell_type": "code",
      "execution_count": 1,
      "metadata": {
        "colab": {
          "base_uri": "https://localhost:8080/",
          "height": 367
        },
        "id": "5zgGpDZkIoqL",
        "outputId": "301317ba-1dcc-4647-affc-662d2ce95519"
      },
      "outputs": [
        {
          "output_type": "error",
          "ename": "ModuleNotFoundError",
          "evalue": "No module named 'pulp'",
          "traceback": [
            "\u001b[0;31m---------------------------------------------------------------------------\u001b[0m",
            "\u001b[0;31mModuleNotFoundError\u001b[0m                       Traceback (most recent call last)",
            "\u001b[0;32m<ipython-input-1-d373181e7962>\u001b[0m in \u001b[0;36m<cell line: 2>\u001b[0;34m()\u001b[0m\n\u001b[1;32m      1\u001b[0m \u001b[0;31m#Import all classes of PuLP module\u001b[0m\u001b[0;34m\u001b[0m\u001b[0;34m\u001b[0m\u001b[0m\n\u001b[0;32m----> 2\u001b[0;31m \u001b[0;32mfrom\u001b[0m \u001b[0mpulp\u001b[0m \u001b[0;32mimport\u001b[0m\u001b[0;34m*\u001b[0m\u001b[0;34m\u001b[0m\u001b[0;34m\u001b[0m\u001b[0m\n\u001b[0m\u001b[1;32m      3\u001b[0m \u001b[0;34m\u001b[0m\u001b[0m\n\u001b[1;32m      4\u001b[0m \u001b[0;31m#Create the problem variable to contain the problem data\u001b[0m\u001b[0;34m\u001b[0m\u001b[0;34m\u001b[0m\u001b[0m\n\u001b[1;32m      5\u001b[0m \u001b[0mmodel\u001b[0m \u001b[0;34m=\u001b[0m \u001b[0mLpProblem\u001b[0m \u001b[0;34m(\u001b[0m \u001b[0;34m\"FurnitureProblem\"\u001b[0m\u001b[0;34m,\u001b[0m \u001b[0mLpMaximize\u001b[0m\u001b[0;34m)\u001b[0m\u001b[0;34m\u001b[0m\u001b[0;34m\u001b[0m\u001b[0m\n",
            "\u001b[0;31mModuleNotFoundError\u001b[0m: No module named 'pulp'",
            "",
            "\u001b[0;31m---------------------------------------------------------------------------\u001b[0;32m\nNOTE: If your import is failing due to a missing package, you can\nmanually install dependencies using either !pip or !apt.\n\nTo view examples of installing some common dependencies, click the\n\"Open Examples\" button below.\n\u001b[0;31m---------------------------------------------------------------------------\u001b[0m\n"
          ],
          "errorDetails": {
            "actions": [
              {
                "action": "open_url",
                "actionText": "Open Examples",
                "url": "/notebooks/snippets/importing_libraries.ipynb"
              }
            ]
          }
        }
      ],
      "source": [
        "#Import all classes of PuLP module\n",
        "from pulp import*\n",
        "\n",
        "#Create the problem variable to contain the problem data\n",
        "model = LpProblem ( \"FurnitureProblem\", LpMaximize)"
      ]
    },
    {
      "cell_type": "code",
      "source": [
        "pip install pulp\n"
      ],
      "metadata": {
        "colab": {
          "base_uri": "https://localhost:8080/"
        },
        "id": "vdt6hzMAJzUc",
        "outputId": "51943d29-d59f-4f4c-df6e-bf6176a958d9"
      },
      "execution_count": 2,
      "outputs": [
        {
          "output_type": "stream",
          "name": "stdout",
          "text": [
            "Collecting pulp\n",
            "  Downloading PuLP-2.8.0-py3-none-any.whl (17.7 MB)\n",
            "\u001b[2K     \u001b[90m━━━━━━━━━━━━━━━━━━━━━━━━━━━━━━━━━━━━━━━━\u001b[0m \u001b[32m17.7/17.7 MB\u001b[0m \u001b[31m36.6 MB/s\u001b[0m eta \u001b[36m0:00:00\u001b[0m\n",
            "\u001b[?25hInstalling collected packages: pulp\n",
            "Successfully installed pulp-2.8.0\n"
          ]
        }
      ]
    },
    {
      "cell_type": "code",
      "source": [
        "!pip install pulp\n"
      ],
      "metadata": {
        "colab": {
          "base_uri": "https://localhost:8080/"
        },
        "id": "TnE-vyYyJ2QM",
        "outputId": "52954016-f59f-4159-e7ca-a3a67aef6725"
      },
      "execution_count": 3,
      "outputs": [
        {
          "output_type": "stream",
          "name": "stdout",
          "text": [
            "Requirement already satisfied: pulp in /usr/local/lib/python3.10/dist-packages (2.8.0)\n"
          ]
        }
      ]
    },
    {
      "cell_type": "code",
      "source": [
        "#Import all classes of PuLP module\n",
        "from pulp import*\n",
        "\n",
        "#Create the problem variable to contain the problem data\n",
        "model = LpProblem ( \"FurnitureProblem\", LpMaximize)\n"
      ],
      "metadata": {
        "id": "JolyHrzmJ8PR"
      },
      "execution_count": 5,
      "outputs": []
    },
    {
      "cell_type": "code",
      "source": [
        "#Create 3 variables tables, chairs and bookcases\n",
        "\n",
        "x1 = LpVariable(\"tables\", 0, None, LpInteger)\n",
        "x2 = LpVariable(\"chairs\", 0, None, LpInteger)\n",
        "x3 = LpVariable(\"bookcases\", 0, None, LpInteger)"
      ],
      "metadata": {
        "id": "Xbop-ufKKRL8"
      },
      "execution_count": 8,
      "outputs": []
    },
    {
      "cell_type": "code",
      "source": [
        "#Create maximize objective function\n",
        "model += 40 * x1 + 30 *x2 +45 + x3\n"
      ],
      "metadata": {
        "id": "p4AocmQkKykm"
      },
      "execution_count": 10,
      "outputs": []
    },
    {
      "cell_type": "code",
      "source": [
        "#Create three constraints\n",
        "model += 2 * x1 + x2 + 2.5 * x3<= 60, \"Labour\"\n",
        "model += 0.8 * x1 + 0.6 * x2 + 1.0 * x3 <= 16, \"Machine\"\n",
        "model += 30 * x1 +20 * x2 + 30 * x3 <= 400, \"wood\"\n",
        "model += x1 >= 10, \"tables\""
      ],
      "metadata": {
        "id": "U9GRms5mLDC3"
      },
      "execution_count": 11,
      "outputs": []
    },
    {
      "cell_type": "code",
      "source": [
        "#The problem is solved using PuLP's choice of Solver\n",
        "model.solve()\n",
        "\n",
        "#Each of the variables is printed with it's resolved optimum value\n",
        "for v in model.variables():\n",
        "\n",
        "      print(v.name, \"=\", v.varValue)\n",
        "\n"
      ],
      "metadata": {
        "colab": {
          "base_uri": "https://localhost:8080/"
        },
        "id": "M8UfFdlFL5vH",
        "outputId": "5a0b7b54-a760-497c-d808-b9e766654576"
      },
      "execution_count": 16,
      "outputs": [
        {
          "output_type": "stream",
          "name": "stdout",
          "text": [
            "bookcases = 0.0\n",
            "chairs = 5.0\n",
            "tables = 10.0\n"
          ]
        }
      ]
    }
  ]
}