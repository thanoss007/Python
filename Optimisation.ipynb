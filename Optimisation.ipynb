{
  "nbformat": 4,
  "nbformat_minor": 0,
  "metadata": {
    "colab": {
      "provenance": []
    },
    "kernelspec": {
      "name": "python3",
      "display_name": "Python 3"
    },
    "language_info": {
      "name": "python"
    }
  },
  "cells": [
    {
      "cell_type": "code",
      "execution_count": 1,
      "metadata": {
        "colab": {
          "base_uri": "https://localhost:8080/"
        },
        "id": "EklGAdIJGZmz",
        "outputId": "d2bafeeb-4ee8-4d4d-e444-67d785dd8142"
      },
      "outputs": [
        {
          "output_type": "stream",
          "name": "stderr",
          "text": [
            "[*********************100%%**********************]  8 of 8 completed\n"
          ]
        },
        {
          "output_type": "stream",
          "name": "stdout",
          "text": [
            "Portfolio with Maximum Sharpe Ratio:\n",
            "Return          0.070859\n",
            "Volatility      0.204521\n",
            "Sharpe Ratio    0.346462\n",
            "Name: 8502, dtype: float64\n",
            "\n",
            "Portfolio with Minimum Volatility:\n",
            "Return          0.048537\n",
            "Volatility      0.180222\n",
            "Sharpe Ratio    0.269320\n",
            "Name: 5131, dtype: float64\n"
          ]
        }
      ],
      "source": [
        "import pandas as pd\n",
        "import numpy as np\n",
        "import yfinance as yf\n",
        "from datetime import datetime\n",
        "\n",
        "# Define the tickers for technology and financial stocks on Hang Seng\n",
        "tickers = ['0700.HK', '0939.HK', '2628.HK', '2888.HK', '0005.HK', '3988.HK', '0932.HK', '1398.HK']\n",
        "\n",
        "# Define the start and end dates for data collection\n",
        "start_date = '2019-01-01'\n",
        "end_date = '2023-12-31'\n",
        "\n",
        "# Download data from Yahoo Finance\n",
        "data = yf.download(tickers, start=start_date, end=end_date)['Adj Close']\n",
        "\n",
        "# Calculate daily returns\n",
        "returns = data.pct_change()\n",
        "\n",
        "# Mean daily returns\n",
        "mean_daily_returns = returns.mean()\n",
        "\n",
        "# Covariance of daily returns\n",
        "cov_matrix = returns.cov()\n",
        "\n",
        "# Define the number of portfolios to generate\n",
        "num_portfolios = 10000\n",
        "\n",
        "# Set up arrays to hold results\n",
        "results = np.zeros((3, num_portfolios))\n",
        "\n",
        "for i in range(num_portfolios):\n",
        "    # Generate random weights\n",
        "    weights = np.random.random(len(tickers))\n",
        "    weights /= np.sum(weights)\n",
        "\n",
        "    # Calculate portfolio return and volatility\n",
        "    portfolio_return = np.sum(mean_daily_returns * weights) * 252\n",
        "    portfolio_std_dev = np.sqrt(np.dot(weights.T, np.dot(cov_matrix, weights))) * np.sqrt(252)\n",
        "\n",
        "    # Store results\n",
        "    results[0,i] = portfolio_return\n",
        "    results[1,i] = portfolio_std_dev\n",
        "    # Store Sharpe Ratio (return / volatility)\n",
        "    results[2,i] = results[0,i] / results[1,i]\n",
        "\n",
        "# Convert results array to Pandas DataFrame\n",
        "results_frame = pd.DataFrame(results.T, columns=['Return', 'Volatility', 'Sharpe Ratio'])\n",
        "\n",
        "# Locate the position of the portfolio with highest Sharpe Ratio\n",
        "max_sharpe_portfolio = results_frame.iloc[results_frame['Sharpe Ratio'].idxmax()]\n",
        "\n",
        "# Print the details of the portfolio with highest Sharpe Ratio\n",
        "print(\"Portfolio with Maximum Sharpe Ratio:\")\n",
        "print(max_sharpe_portfolio)\n",
        "\n",
        "# Locate the position of the portfolio with minimum volatility\n",
        "min_volatility_portfolio = results_frame.iloc[results_frame['Volatility'].idxmin()]\n",
        "\n",
        "# Print the details of the portfolio with minimum volatility\n",
        "print(\"\\nPortfolio with Minimum Volatility:\")\n",
        "print(min_volatility_portfolio)\n"
      ]
    },
    {
      "cell_type": "code",
      "source": [],
      "metadata": {
        "id": "iLntiBsjOGAn"
      },
      "execution_count": null,
      "outputs": []
    },
    {
      "cell_type": "code",
      "source": [],
      "metadata": {
        "id": "HLLwqUlQOHfh"
      },
      "execution_count": null,
      "outputs": []
    },
    {
      "cell_type": "code",
      "source": [
        "# Extract the weights of the selected portfolios\n",
        "max_sharpe_weights = results_frame.iloc[results_frame['Sharpe Ratio'].idxmax()]\n",
        "min_volatility_weights = results_frame.iloc[results_frame['Volatility'].idxmin()]\n",
        "\n",
        "# Get the tickers of the stocks\n",
        "selected_tickers_max_sharpe = [tickers[i] for i, weight in enumerate(max_sharpe_weights) if weight != 0]\n",
        "selected_tickers_min_volatility = [tickers[i] for i, weight in enumerate(min_volatility_weights) if weight != 0]\n",
        "\n",
        "# Print out the tickers of the selected stocks\n",
        "print(\"Stocks picked for the portfolio with Maximum Sharpe Ratio:\")\n",
        "print(selected_tickers_max_sharpe)\n",
        "\n",
        "print(\"\\nStocks picked for the portfolio with Minimum Volatility:\")\n",
        "print(selected_tickers_min_volatility)\n",
        "\n"
      ],
      "metadata": {
        "colab": {
          "base_uri": "https://localhost:8080/"
        },
        "id": "hj8X6uxMHKk8",
        "outputId": "9a3fef55-c14d-4a63-b8fe-6c6b1354a9f2"
      },
      "execution_count": 2,
      "outputs": [
        {
          "output_type": "stream",
          "name": "stdout",
          "text": [
            "Stocks picked for the portfolio with Maximum Sharpe Ratio:\n",
            "['0700.HK', '0939.HK', '2628.HK']\n",
            "\n",
            "Stocks picked for the portfolio with Minimum Volatility:\n",
            "['0700.HK', '0939.HK', '2628.HK']\n"
          ]
        }
      ]
    },
    {
      "cell_type": "code",
      "source": [
        "import pandas as pd\n",
        "import yfinance as yf\n",
        "\n",
        "# Define the tickers for the stocks\n",
        "tickers = ['0700.HK', '0939.HK', '2628.HK']\n",
        "\n",
        "# Define the start and end dates for data collection\n",
        "start_date = '2019-01-01'\n",
        "end_date = '2023-12-31'\n",
        "\n",
        "# Download data from Yahoo Finance\n",
        "data = yf.download(tickers, start=start_date, end=end_date)['Adj Close']\n",
        "\n",
        "# Save the data to a CSV file\n",
        "data.to_csv('stock_data.csv')\n",
        "\n",
        "print(\"Data downloaded and saved to 'stock_data.csv' file.\")\n"
      ],
      "metadata": {
        "colab": {
          "base_uri": "https://localhost:8080/"
        },
        "id": "DIh03Z14Inmd",
        "outputId": "9da33223-a06f-435f-bbfd-b4de904928f1"
      },
      "execution_count": 3,
      "outputs": [
        {
          "output_type": "stream",
          "name": "stderr",
          "text": [
            "[*********************100%%**********************]  3 of 3 completed"
          ]
        },
        {
          "output_type": "stream",
          "name": "stdout",
          "text": [
            "Data downloaded and saved to 'stock_data.csv' file.\n"
          ]
        },
        {
          "output_type": "stream",
          "name": "stderr",
          "text": [
            "\n"
          ]
        }
      ]
    },
    {
      "cell_type": "code",
      "source": [
        "import pandas as pd\n",
        "import yfinance as yf\n",
        "\n",
        "# Define the tickers for the stocks\n",
        "tickers = ['0700.HK', '0939.HK', '2628.HK']\n",
        "\n",
        "# Define the start and end dates for data collection\n",
        "start_date = '2019-01-01'\n",
        "end_date = '2023-12-31'\n",
        "\n",
        "# Download data from Yahoo Finance\n",
        "data = yf.download(tickers, start=start_date, end=end_date)['Adj Close']\n",
        "\n",
        "# Save the data to a CSV file\n",
        "data.to_csv('stock_data.csv')\n",
        "\n",
        "print(\"Data saved to 'stock_data.csv'. Please download the file manually.\")\n"
      ],
      "metadata": {
        "colab": {
          "base_uri": "https://localhost:8080/"
        },
        "id": "XKYP6M4kIxXI",
        "outputId": "e0fd1fa4-21c7-44d6-8192-17d3daa4b430"
      },
      "execution_count": 4,
      "outputs": [
        {
          "output_type": "stream",
          "name": "stderr",
          "text": [
            "[*********************100%%**********************]  3 of 3 completed"
          ]
        },
        {
          "output_type": "stream",
          "name": "stdout",
          "text": [
            "Data saved to 'stock_data.csv'. Please download the file manually.\n"
          ]
        },
        {
          "output_type": "stream",
          "name": "stderr",
          "text": [
            "\n"
          ]
        }
      ]
    },
    {
      "cell_type": "code",
      "source": [
        "import pandas as pd\n",
        "import yfinance as yf\n",
        "\n",
        "# Define the tickers for the stocks\n",
        "tickers = ['0700.HK', '0939.HK', '2628.HK']\n",
        "\n",
        "# Define the start and end dates for data collection\n",
        "start_date = '2019-01-01'\n",
        "end_date = '2023-12-31'\n",
        "\n",
        "# Download data from Yahoo Finance\n",
        "data = yf.download(tickers, start=start_date, end=end_date)\n",
        "\n",
        "# Extract open and close prices\n",
        "open_prices = data['Open']\n",
        "close_prices = data['Close']\n",
        "\n",
        "# Combine open and close prices into a DataFrame\n",
        "prices_table = pd.concat([open_prices, close_prices], axis=1)\n",
        "\n",
        "# Print the table\n",
        "print(prices_table)\n"
      ],
      "metadata": {
        "colab": {
          "base_uri": "https://localhost:8080/"
        },
        "id": "8ukS16fOJhFd",
        "outputId": "1d17387a-798f-4633-9127-ed321e67991e"
      },
      "execution_count": 11,
      "outputs": [
        {
          "output_type": "stream",
          "name": "stderr",
          "text": [
            "[*********************100%%**********************]  3 of 3 completed"
          ]
        },
        {
          "output_type": "stream",
          "name": "stdout",
          "text": [
            "Ticker         0700.HK  0939.HK    2628.HK     0700.HK  0939.HK    2628.HK\n",
            "Date                                                                      \n",
            "2019-01-02  290.384796     6.43  16.340000  282.641174     6.27  16.200001\n",
            "2019-01-03  280.244354     6.25  16.200001  281.166229     6.29  16.020000\n",
            "2019-01-04  276.925690     6.24  15.960000  286.328613     6.41  16.400000\n",
            "2019-01-07  293.150360     6.47  16.600000  292.781616     6.42  16.660000\n",
            "2019-01-08  293.150360     6.42  16.559999  290.937897     6.42  16.580000\n",
            "...                ...      ...        ...         ...      ...        ...\n",
            "2023-12-21  309.200012     4.44   9.510000  312.600006     4.51   9.700000\n",
            "2023-12-22  317.000000     4.53   9.790000  274.000000     4.51   9.670000\n",
            "2023-12-27  282.200012     4.53   9.770000  285.000000     4.56   9.770000\n",
            "2023-12-28  285.000000     4.59   9.840000  293.000000     4.63  10.220000\n",
            "2023-12-29  295.000000     4.62  10.260000  293.600006     4.65  10.120000\n",
            "\n",
            "[1230 rows x 6 columns]\n"
          ]
        },
        {
          "output_type": "stream",
          "name": "stderr",
          "text": [
            "\n"
          ]
        }
      ]
    },
    {
      "cell_type": "code",
      "source": [
        "import pandas as pd\n",
        "import numpy as np\n",
        "import yfinance as yf\n",
        "\n",
        "# Define Hang Seng tickers\n",
        "hang_seng_tickers = ['0700.HK', '0939.HK', '2628.HK']  # Example tickers\n",
        "\n",
        "# Define start and end dates\n",
        "start_date = '2019-01-01'\n",
        "end_date = '2023-12-31'\n",
        "\n",
        "# Download data from Yahoo Finance\n",
        "price_data = yf.download(hang_seng_tickers, start=start_date, end=end_date)['Adj Close']\n",
        "\n",
        "# Calculate Log Returns\n",
        "log_returns = np.log(1 + price_data.pct_change())\n",
        "\n",
        "# Generate Random Weights\n",
        "number_of_symbols = len(hang_seng_tickers)\n",
        "random_weights = np.random.random(number_of_symbols)\n",
        "\n",
        "# Generate Rebalance Weights (normalize weights to sum up to 1)\n",
        "rebalance_weights = random_weights / np.sum(random_weights)\n",
        "\n",
        "# Calculate Expected Returns (annualized)\n",
        "exp_ret = np.sum((log_returns.mean() * rebalance_weights) * 252)\n",
        "\n",
        "# Calculate Expected Volatility (annualized)\n",
        "exp_vol = np.sqrt(\n",
        "    np.dot(\n",
        "        rebalance_weights.T,\n",
        "        np.dot(log_returns.cov() * 252, rebalance_weights)\n",
        "    )\n",
        ")\n",
        "\n",
        "# Calculate Sharpe Ratio\n",
        "sharpe_ratio = exp_ret / exp_vol\n",
        "\n",
        "# Create DataFrame to display weights\n",
        "weights_df = pd.DataFrame(data={\n",
        "    'Random Weights': random_weights,\n",
        "    'Rebalance Weights': rebalance_weights\n",
        "})\n",
        "\n",
        "# Create DataFrame to display metrics\n",
        "metrics_df = pd.DataFrame(data={\n",
        "    'Expected Portfolio Returns': exp_ret,\n",
        "    'Expected Portfolio Volatility': exp_vol,\n",
        "    'Portfolio Sharpe Ratio': sharpe_ratio\n",
        "}, index=[0])\n",
        "\n",
        "# Print weights and metrics\n",
        "print('')\n",
        "print('='*80)\n",
        "print('PORTFOLIO WEIGHTS:')\n",
        "print('-'*80)\n",
        "print(weights_df)\n",
        "print('-'*80)\n",
        "\n",
        "print('')\n",
        "print('='*80)\n",
        "print('PORTFOLIO METRICS:')\n",
        "print('-'*80)\n",
        "print(metrics_df)\n",
        "print('-'*80)\n",
        "\n"
      ],
      "metadata": {
        "colab": {
          "base_uri": "https://localhost:8080/"
        },
        "id": "88bpDS7gMREs",
        "outputId": "cd9dba8e-a478-44f7-d116-0026d868f75f"
      },
      "execution_count": 22,
      "outputs": [
        {
          "output_type": "stream",
          "name": "stderr",
          "text": [
            "[*********************100%%**********************]  3 of 3 completed"
          ]
        },
        {
          "output_type": "stream",
          "name": "stdout",
          "text": [
            "\n",
            "================================================================================\n",
            "PORTFOLIO WEIGHTS:\n",
            "--------------------------------------------------------------------------------\n",
            "   Random Weights  Rebalance Weights\n",
            "0        0.142579           0.148609\n",
            "1        0.613441           0.639385\n",
            "2        0.203404           0.212007\n",
            "--------------------------------------------------------------------------------\n",
            "\n",
            "================================================================================\n",
            "PORTFOLIO METRICS:\n",
            "--------------------------------------------------------------------------------\n",
            "   Expected Portfolio Returns  Expected Portfolio Volatility  \\\n",
            "0                   -0.004231                       0.214777   \n",
            "\n",
            "   Portfolio Sharpe Ratio  \n",
            "0                 -0.0197  \n",
            "--------------------------------------------------------------------------------\n"
          ]
        },
        {
          "output_type": "stream",
          "name": "stderr",
          "text": [
            "\n"
          ]
        }
      ]
    },
    {
      "cell_type": "code",
      "source": [
        "import pandas as pd\n",
        "import numpy as np\n",
        "import yfinance as yf\n",
        "\n",
        "# Define Hang Seng tickers\n",
        "hang_seng_tickers = ['0700.HK', '0939.HK', '2628.HK']  # Example tickers\n",
        "\n",
        "# Define start and end dates\n",
        "start_date = '2019-01-01'\n",
        "end_date = '2023-12-31'\n",
        "\n",
        "# Download data from Yahoo Finance\n",
        "price_data = yf.download(hang_seng_tickers, start=start_date, end=end_date)['Adj Close']\n",
        "\n",
        "# Calculate Log Returns\n",
        "log_returns = np.log(1 + price_data.pct_change())\n",
        "\n",
        "# Initialize components for Monte Carlo Simulation\n",
        "num_of_portfolios = 5000\n",
        "number_of_symbols = len(hang_seng_tickers)\n",
        "\n",
        "all_weights = np.zeros((num_of_portfolios, number_of_symbols))\n",
        "ret_arr = np.zeros(num_of_portfolios)\n",
        "vol_arr = np.zeros(num_of_portfolios)\n",
        "sharpe_arr = np.zeros(num_of_portfolios)\n",
        "\n",
        "# Start the simulations\n",
        "for ind in range(num_of_portfolios):\n",
        "    # Calculate random weights\n",
        "    weights = np.array(np.random.random(number_of_symbols))\n",
        "    weights = weights / np.sum(weights)\n",
        "    all_weights[ind, :] = weights\n",
        "\n",
        "    # Calculate expected log returns\n",
        "    ret_arr[ind] = np.sum((log_returns.mean() * weights) * 252)\n",
        "\n",
        "    # Calculate volatility\n",
        "    vol_arr[ind] = np.sqrt(\n",
        "        np.dot(weights.T, np.dot(log_returns.cov() * 252, weights))\n",
        "    )\n",
        "\n",
        "    # Calculate Sharpe Ratio\n",
        "    sharpe_arr[ind] = ret_arr[ind] / vol_arr[ind]\n",
        "\n",
        "# Create a DataFrame for simulation results\n",
        "simulations_data = {\n",
        "    'Returns': ret_arr,\n",
        "    'Volatility': vol_arr,\n",
        "    'Sharpe Ratio': sharpe_arr,\n",
        "    'Portfolio Weights': [w.tolist() for w in all_weights]\n",
        "}\n",
        "simulations_df = pd.DataFrame(simulations_data)\n",
        "\n",
        "# Print out the results\n",
        "print('')\n",
        "print('='*80)\n",
        "print('SIMULATIONS RESULT:')\n",
        "print('-'*80)\n",
        "print(simulations_df.head())\n",
        "print('-'*80)\n"
      ],
      "metadata": {
        "colab": {
          "base_uri": "https://localhost:8080/"
        },
        "id": "ozcQ6bdlMxZw",
        "outputId": "75092953-8f8c-4461-ccb7-af950d54816d"
      },
      "execution_count": 23,
      "outputs": [
        {
          "output_type": "stream",
          "name": "stderr",
          "text": [
            "[*********************100%%**********************]  3 of 3 completed\n"
          ]
        },
        {
          "output_type": "stream",
          "name": "stdout",
          "text": [
            "\n",
            "================================================================================\n",
            "SIMULATIONS RESULT:\n",
            "--------------------------------------------------------------------------------\n",
            "    Returns  Volatility  Sharpe Ratio  \\\n",
            "0 -0.008470    0.254841     -0.033235   \n",
            "1 -0.021654    0.248283     -0.087215   \n",
            "2 -0.011668    0.237507     -0.049125   \n",
            "3 -0.007586    0.224520     -0.033787   \n",
            "4 -0.011253    0.269338     -0.041780   \n",
            "\n",
            "                                   Portfolio Weights  \n",
            "0  [0.380980688015697, 0.3295193714581435, 0.2894...  \n",
            "1  [0.16533073640187823, 0.3506506856580719, 0.48...  \n",
            "2  [0.24525448203808106, 0.4222005448669583, 0.33...  \n",
            "3  [0.20011803211354576, 0.5331051788013976, 0.26...  \n",
            "4  [0.42337659775035885, 0.24170251146139815, 0.3...  \n",
            "--------------------------------------------------------------------------------\n"
          ]
        }
      ]
    },
    {
      "cell_type": "code",
      "source": [
        "import pandas as pd\n",
        "import numpy as np\n",
        "import yfinance as yf\n",
        "\n",
        "# Define Hang Seng tickers\n",
        "hang_seng_tickers = ['0700.HK', '0939.HK', '2628.HK']  # Example tickers\n",
        "\n",
        "# Define start and end dates\n",
        "start_date = '2019-01-01'\n",
        "end_date = '2023-12-31'\n",
        "\n",
        "# Download data from Yahoo Finance\n",
        "price_data = yf.download(hang_seng_tickers, start=start_date, end=end_date)['Adj Close']\n",
        "\n",
        "# Calculate Log Returns\n",
        "log_returns = np.log(1 + price_data.pct_change())\n",
        "\n",
        "# Initialize components for Monte Carlo Simulation\n",
        "num_of_portfolios = 5000\n",
        "number_of_symbols = len(hang_seng_tickers)\n",
        "\n",
        "all_weights = np.zeros((num_of_portfolios, number_of_symbols))\n",
        "ret_arr = np.zeros(num_of_portfolios)\n",
        "vol_arr = np.zeros(num_of_portfolios)\n",
        "sharpe_arr = np.zeros(num_of_portfolios)\n",
        "\n",
        "# Start the simulations\n",
        "for ind in range(num_of_portfolios):\n",
        "    # Calculate random weights\n",
        "    weights = np.array(np.random.random(number_of_symbols))\n",
        "    weights = weights / np.sum(weights)\n",
        "    all_weights[ind, :] = weights\n",
        "\n",
        "    # Calculate expected log returns\n",
        "    ret_arr[ind] = np.sum((log_returns.mean() * weights) * 252)\n",
        "\n",
        "    # Calculate volatility\n",
        "    vol_arr[ind] = np.sqrt(\n",
        "        np.dot(weights.T, np.dot(log_returns.cov() * 252, weights))\n",
        "    )\n",
        "\n",
        "    # Calculate Sharpe Ratio\n",
        "    sharpe_arr[ind] = ret_arr[ind] / vol_arr[ind]\n",
        "\n",
        "# Create a DataFrame for simulation results\n",
        "simulations_data = {\n",
        "    'Returns': ret_arr,\n",
        "    'Volatility': vol_arr,\n",
        "    'Sharpe Ratio': sharpe_arr,\n",
        "    'Portfolio Weights': [w.tolist() for w in all_weights]\n",
        "}\n",
        "simulations_df = pd.DataFrame(simulations_data)\n",
        "\n",
        "# Print out the results\n",
        "print('')\n",
        "print('='*80)\n",
        "print('SIMULATIONS RESULT:')\n",
        "print('-'*80)\n",
        "print(simulations_df.head())\n",
        "print('-'*80)"
      ],
      "metadata": {
        "colab": {
          "base_uri": "https://localhost:8080/"
        },
        "id": "uNK2nifwNfXR",
        "outputId": "e5dedd1d-9279-4048-8cf8-ca00b10db856"
      },
      "execution_count": 24,
      "outputs": [
        {
          "output_type": "stream",
          "name": "stderr",
          "text": [
            "[*********************100%%**********************]  3 of 3 completed\n"
          ]
        },
        {
          "output_type": "stream",
          "name": "stdout",
          "text": [
            "\n",
            "================================================================================\n",
            "SIMULATIONS RESULT:\n",
            "--------------------------------------------------------------------------------\n",
            "    Returns  Volatility  Sharpe Ratio  \\\n",
            "0 -0.008096    0.285383     -0.028369   \n",
            "1 -0.011809    0.250006     -0.047236   \n",
            "2 -0.015056    0.292106     -0.051543   \n",
            "3 -0.013124    0.239170     -0.054872   \n",
            "4 -0.015683    0.277389     -0.056538   \n",
            "\n",
            "                                   Portfolio Weights  \n",
            "0  [0.5179757144203643, 0.19154834655538505, 0.29...  \n",
            "1  [0.32142902438702586, 0.3400431662354486, 0.33...  \n",
            "2  [0.48666769165344764, 0.11607848720734959, 0.3...  \n",
            "3  [0.23682985097678147, 0.40837937441490996, 0.3...  \n",
            "4  [0.4172269621096859, 0.17920076052437944, 0.40...  \n",
            "--------------------------------------------------------------------------------\n"
          ]
        }
      ]
    },
    {
      "cell_type": "code",
      "source": [
        "print(simulations_df['Portfolio Weights'][0])  # Print the weights of the first portfolio\n"
      ],
      "metadata": {
        "colab": {
          "base_uri": "https://localhost:8080/"
        },
        "id": "BUFYb7SiOLlp",
        "outputId": "f0a9bbda-bb71-48dd-c152-60d6a74bcc0a"
      },
      "execution_count": 27,
      "outputs": [
        {
          "output_type": "stream",
          "name": "stdout",
          "text": [
            "[0.5179757144203643, 0.19154834655538505, 0.29047593902425084]\n"
          ]
        }
      ]
    },
    {
      "cell_type": "code",
      "source": [
        "for index, row in simulations_df.iterrows():\n",
        "    print(f\"Portfolio Weights for Row {index}: {row['Portfolio Weights']}\")\n"
      ],
      "metadata": {
        "id": "UwY9TUx_OTmC"
      },
      "execution_count": null,
      "outputs": []
    },
    {
      "cell_type": "code",
      "source": [
        "# Find the row with the maximum Sharpe Ratio\n",
        "max_sharpe_ratio_row = simulations_df.loc[simulations_df['Sharpe Ratio'].idxmax()]\n",
        "\n",
        "# Find the row with the minimum volatility\n",
        "min_volatility_row = simulations_df.loc[simulations_df['Volatility'].idxmin()]\n",
        "\n",
        "print('')\n",
        "print('='*80)\n",
        "print('MAX SHARPE RATIO:')\n",
        "print('-'*80)\n",
        "print(max_sharpe_ratio_row)\n",
        "print('-'*80)\n",
        "\n",
        "print('')\n",
        "print('='*80)\n",
        "print('MIN VOLATILITY:')\n",
        "print('-'*80)\n",
        "print(min_volatility_row)\n",
        "print('-'*80)\n"
      ],
      "metadata": {
        "colab": {
          "base_uri": "https://localhost:8080/"
        },
        "id": "ICcd_BUoOxCZ",
        "outputId": "b53f60d5-573b-4177-8e11-cf11ab7e8a0d"
      },
      "execution_count": 32,
      "outputs": [
        {
          "output_type": "stream",
          "name": "stdout",
          "text": [
            "\n",
            "================================================================================\n",
            "MAX SHARPE RATIO:\n",
            "--------------------------------------------------------------------------------\n",
            "Returns                                                        0.00928\n",
            "Volatility                                                    0.201247\n",
            "Sharpe Ratio                                                  0.046111\n",
            "Portfolio Weights    [0.12917789111451605, 0.8700675404124092, 0.00...\n",
            "Name: 4021, dtype: object\n",
            "--------------------------------------------------------------------------------\n",
            "\n",
            "================================================================================\n",
            "MIN VOLATILITY:\n",
            "--------------------------------------------------------------------------------\n",
            "Returns                                                       0.009138\n",
            "Volatility                                                    0.201017\n",
            "Sharpe Ratio                                                   0.04546\n",
            "Portfolio Weights    [0.11135202569922492, 0.8865754611801443, 0.00...\n",
            "Name: 3701, dtype: object\n",
            "--------------------------------------------------------------------------------\n"
          ]
        }
      ]
    },
    {
      "cell_type": "code",
      "source": [
        "import matplotlib.pyplot as plt\n",
        "\n",
        "# This is so I can see the plot inside of my Jupyter Notebook.\n",
        "%matplotlib inline\n",
        "\n",
        "# Plot the data on a Scatter plot.\n",
        "plt.scatter(\n",
        "    y=simulations_df['Returns'],\n",
        "    x=simulations_df['Volatility'],\n",
        "    c=simulations_df['Sharpe Ratio'],\n",
        "    cmap='RdYlBu'\n",
        ")\n",
        "\n",
        "# Give the Plot some labels, and titles.\n",
        "plt.title('Portfolio Returns Vs. Risk')\n",
        "plt.colorbar(label='Sharpe Ratio')\n",
        "plt.xlabel('Standard Deviation')\n",
        "plt.ylabel('Returns')\n",
        "\n",
        "# Plot the Max Sharpe Ratio, using a `Red Star`.\n",
        "plt.scatter(\n",
        "    max_sharpe_ratio_row['Volatility'],\n",
        "    max_sharpe_ratio_row['Returns'],\n",
        "    marker=(5, 1, 0),\n",
        "    color='r',\n",
        "    s=200\n",
        ")\n",
        "\n",
        "# Plot the Min Volatility, using a `Blue Star`.\n",
        "plt.scatter(\n",
        "    min_volatility_row['Volatility'],\n",
        "    min_volatility_row['Returns'],\n",
        "    marker=(5, 1, 0),\n",
        "    color='b',\n",
        "    s=200\n",
        ")\n",
        "\n",
        "# Finally, show the plot.\n",
        "plt.show()\n"
      ],
      "metadata": {
        "colab": {
          "base_uri": "https://localhost:8080/",
          "height": 471
        },
        "id": "kb2rvfcoPQXT",
        "outputId": "a9e9c15d-028f-452f-ce32-2d8a7495a08d"
      },
      "execution_count": 33,
      "outputs": [
        {
          "output_type": "display_data",
          "data": {
            "text/plain": [
              "<Figure size 640x480 with 2 Axes>"
            ],
            "image/png": "[encoded data removed]"
          },
          "metadata": {}
        }
      ]
    },
    {
      "cell_type": "code",
      "source": [
        "def get_metrics(weights: list) -> np.array:\n",
        "    \"\"\"\n",
        "    ### Overview:\n",
        "    ----\n",
        "    With a given set of weights, return the portfolio returns,\n",
        "    the portfolio volatility, and the portfolio Sharpe ratio.\n",
        "\n",
        "    ### Arguments:\n",
        "    ----\n",
        "    weights (list): An array of portfolio weights.\n",
        "\n",
        "    ### Returns:\n",
        "    ----\n",
        "    (np.array): An array containing return value, a volatility value,\n",
        "        and a Sharpe ratio.\n",
        "    \"\"\"\n",
        "\n",
        "    # Convert to a Numpy Array.\n",
        "    weights = np.array(weights)\n",
        "\n",
        "    # Calculate the returns, remember to annualize them (252).\n",
        "    ret = np.sum(log_returns.mean() * weights) * 252\n",
        "\n",
        "    # Calculate the volatility, remember to annualize them (252).\n",
        "    vol = np.sqrt(\n",
        "        np.dot(weights.T, np.dot(log_returns.cov() * 252, weights))\n",
        "    )\n",
        "\n",
        "    # Calculate the Sharpe Ratio.\n",
        "    sr = ret / vol\n",
        "\n",
        "    return np.array([ret, vol, sr])\n",
        "\n",
        "def grab_negative_sharpe(weights: list) -> np.array:\n",
        "    \"\"\"The function used to minimize the Sharpe Ratio.\n",
        "\n",
        "    ### Arguments:\n",
        "    ----\n",
        "    weights (list): The weights, we are testing to see\n",
        "        if it's the minimum.\n",
        "\n",
        "    ### Returns:\n",
        "    ----\n",
        "    (np.array): A numpy array of the portfolio metrics.\n",
        "    \"\"\"\n",
        "    return -get_metrics(weights)[2]\n",
        "\n",
        "def grab_volatility(weights: list) -> np.array:\n",
        "    \"\"\"The function used to minimize the volatility.\n",
        "\n",
        "    ### Arguments:\n",
        "    ----\n",
        "    weights (list): The weights, we are testing to see\n",
        "        if it's the minimum.\n",
        "\n",
        "    ### Returns:\n",
        "    ----\n",
        "    (np.array): A numpy array of the portfolio metrics.\n",
        "    \"\"\"\n",
        "    return get_metrics(weights)[1]\n",
        "\n",
        "def check_sum(weights: list) -> float:\n",
        "    \"\"\"Ensure the allocations of the \"weights\" sum to 1 (100%)\n",
        "\n",
        "    ### Arguments:\n",
        "    ----\n",
        "    weights (list): The weights we want to check to see\n",
        "        if they sum to 1.\n",
        "\n",
        "    ### Returns:\n",
        "    ----\n",
        "    float: The difference between 1 and the sum of the weights.\n",
        "    \"\"\"\n",
        "    return np.sum(weights) - 1\n"
      ],
      "metadata": {
        "id": "pPm2YrrQP53b"
      },
      "execution_count": 34,
      "outputs": []
    },
    {
      "cell_type": "code",
      "source": [
        "import scipy.optimize as sci_opt\n",
        "\n",
        "# Define the boundaries for each stock. Remember you can only invest up to 100% of your capital into a single asset.\n",
        "bounds = tuple((0, 1) for symbol in range(number_of_symbols))\n",
        "\n",
        "# Define the constraints, here we're saying that the sum of each weight must not exceed 100%.\n",
        "constraints = ({'type': 'eq', 'fun': check_sum})\n",
        "\n",
        "# We need to create an initial guess to start with, and usually the best initial guess is just an even distribution.\n",
        "# In this case, 25% for each of the stocks.\n",
        "init_guess = [1 / number_of_symbols] * number_of_symbols\n",
        "\n",
        "# Perform the operation to minimize the negative Sharpe ratio (i.e., maximize the Sharpe ratio).\n",
        "optimized_sharpe = sci_opt.minimize(\n",
        "    grab_negative_sharpe,  # Minimize this function.\n",
        "    init_guess,  # Start with these initial values.\n",
        "    method='SLSQP',\n",
        "    bounds=bounds,  # Don't exceed these bounds.\n",
        "    constraints=constraints  # Make sure you don't exceed the 100% constraint.\n",
        ")\n",
        "\n",
        "# Print the results.\n",
        "print('')\n",
        "print('='*80)\n",
        "print('OPTIMIZED SHARPE RATIO:')\n",
        "print('-'*80)\n",
        "print(optimized_sharpe)\n",
        "print('-'*80)\n"
      ],
      "metadata": {
        "colab": {
          "base_uri": "https://localhost:8080/"
        },
        "id": "ffGfw617QJs9",
        "outputId": "91eab435-2a05-420a-eb64-e140ec0d6d71"
      },
      "execution_count": 35,
      "outputs": [
        {
          "output_type": "stream",
          "name": "stdout",
          "text": [
            "\n",
            "================================================================================\n",
            "OPTIMIZED SHARPE RATIO:\n",
            "--------------------------------------------------------------------------------\n",
            " message: Optimization terminated successfully\n",
            " success: True\n",
            "  status: 0\n",
            "     fun: -0.046720912765615824\n",
            "       x: [ 1.968e-01  8.032e-01  0.000e+00]\n",
            "     nit: 7\n",
            "     jac: [ 5.626e-05 -1.379e-05  3.236e-01]\n",
            "    nfev: 29\n",
            "    njev: 7\n",
            "--------------------------------------------------------------------------------\n"
          ]
        }
      ]
    },
    {
      "cell_type": "code",
      "source": [
        "# Grab the metrics.\n",
        "optimized_metrics = get_metrics(weights=optimized_sharpe.x)\n",
        "\n",
        "# Print the Optimized Weights.\n",
        "print('')\n",
        "print('='*80)\n",
        "print('OPTIMIZED WEIGHTS:')\n",
        "print('-'*80)\n",
        "print(optimized_sharpe.x)\n",
        "print('-'*80)\n",
        "\n",
        "# Print the Optimized Metrics.\n",
        "print('')\n",
        "print('='*80)\n",
        "print('OPTIMIZED METRICS:')\n",
        "print('-'*80)\n",
        "print(optimized_metrics)\n",
        "print('-'*80)\n"
      ],
      "metadata": {
        "colab": {
          "base_uri": "https://localhost:8080/"
        },
        "id": "dA92zbcDQl1c",
        "outputId": "e4f6a816-3ba9-4453-93fd-313959a8ba53"
      },
      "execution_count": 36,
      "outputs": [
        {
          "output_type": "stream",
          "name": "stdout",
          "text": [
            "\n",
            "================================================================================\n",
            "OPTIMIZED WEIGHTS:\n",
            "--------------------------------------------------------------------------------\n",
            "[0.19682538 0.80317462 0.        ]\n",
            "--------------------------------------------------------------------------------\n",
            "\n",
            "================================================================================\n",
            "OPTIMIZED METRICS:\n",
            "--------------------------------------------------------------------------------\n",
            "[0.00954361 0.20426843 0.04672091]\n",
            "--------------------------------------------------------------------------------\n"
          ]
        }
      ]
    },
    {
      "cell_type": "code",
      "source": [
        "import scipy.optimize as sci_opt\n",
        "\n",
        "# Define the boundaries for each stock. Remember you can only invest up to 100% of your capital into a single asset.\n",
        "bounds = tuple((0, 1) for symbol in range(number_of_symbols))\n",
        "\n",
        "# Define the constraints, here we're saying that the sum of each weight must not exceed 100%.\n",
        "constraints = ({'type': 'eq', 'fun': check_sum})\n",
        "\n",
        "# We need to create an initial guess to start with, and usually the best initial guess is just an even distribution.\n",
        "# In this case, 25% for each of the stocks.\n",
        "init_guess = [1 / number_of_symbols] * number_of_symbols\n",
        "\n",
        "# Perform the operation to minimize volatility.\n",
        "optimized_volatility = sci_opt.minimize(\n",
        "    grab_volatility,  # Minimize this function.\n",
        "    init_guess,  # Start with these initial values.\n",
        "    method='SLSQP',\n",
        "    bounds=bounds,  # Don't exceed these bounds.\n",
        "    constraints=constraints  # Make sure you don't exceed the 100% constraint.\n",
        ")\n",
        "\n",
        "# Print the results.\n",
        "print('')\n",
        "print('='*80)\n",
        "print('OPTIMIZED VOLATILITY RATIO:')\n",
        "print('-'*80)\n",
        "print(optimized_volatility)\n",
        "print('-'*80)\n"
      ],
      "metadata": {
        "colab": {
          "base_uri": "https://localhost:8080/"
        },
        "id": "8mbPdv1cQ8h-",
        "outputId": "5dbf0799-4ea8-451b-ae74-bc29a08f2a96"
      },
      "execution_count": 37,
      "outputs": [
        {
          "output_type": "stream",
          "name": "stdout",
          "text": [
            "\n",
            "================================================================================\n",
            "OPTIMIZED VOLATILITY RATIO:\n",
            "--------------------------------------------------------------------------------\n",
            " message: Optimization terminated successfully\n",
            " success: True\n",
            "  status: 0\n",
            "     fun: 0.20091273051171146\n",
            "       x: [ 9.977e-02  9.002e-01  0.000e+00]\n",
            "     nit: 6\n",
            "     jac: [ 2.010e-01  2.009e-01  2.254e-01]\n",
            "    nfev: 24\n",
            "    njev: 6\n",
            "--------------------------------------------------------------------------------\n"
          ]
        }
      ]
    },
    {
      "cell_type": "code",
      "source": [
        "# Grab the metrics.\n",
        "optimized_metrics = get_metrics(weights=optimized_volatility.x)\n",
        "\n",
        "# Print the Optimized Weights.\n",
        "print('')\n",
        "print('='*80)\n",
        "print('OPTIMIZED WEIGHTS:')\n",
        "print('-'*80)\n",
        "print(optimized_volatility.x)\n",
        "print('-'*80)\n",
        "\n",
        "# Print the Optimized Metrics.\n",
        "print('')\n",
        "print('='*80)\n",
        "print('OPTIMIZED METRICS:')\n",
        "print('-'*80)\n",
        "print(optimized_metrics)\n",
        "print('-'*80)\n"
      ],
      "metadata": {
        "colab": {
          "base_uri": "https://localhost:8080/"
        },
        "id": "_pHrnYH9RLYf",
        "outputId": "0005d979-c5a7-4bfe-fe5d-4f097a2a46b6"
      },
      "execution_count": 38,
      "outputs": [
        {
          "output_type": "stream",
          "name": "stdout",
          "text": [
            "\n",
            "================================================================================\n",
            "OPTIMIZED WEIGHTS:\n",
            "--------------------------------------------------------------------------------\n",
            "[0.09977463 0.90022537 0.        ]\n",
            "--------------------------------------------------------------------------------\n",
            "\n",
            "================================================================================\n",
            "OPTIMIZED METRICS:\n",
            "--------------------------------------------------------------------------------\n",
            "[0.00923446 0.20091273 0.04596252]\n",
            "--------------------------------------------------------------------------------\n"
          ]
        }
      ]
    }
  ]
}